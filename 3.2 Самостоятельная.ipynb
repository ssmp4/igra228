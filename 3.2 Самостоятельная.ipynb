{
  "nbformat": 4,
  "nbformat_minor": 0,
  "metadata": {
    "colab": {
      "provenance": []
    },
    "kernelspec": {
      "name": "python3",
      "display_name": "Python 3"
    },
    "language_info": {
      "name": "python"
    }
  },
  "cells": [
    {
      "cell_type": "markdown",
      "source": [
        "#Анализ стоимости жилья в Калифорнии с помощью моделей регрессии"
      ],
      "metadata": {
        "id": "4L30e6_7LFp0"
      }
    },
    {
      "cell_type": "markdown",
      "source": [
        "##ВНИМАНИЕ!\n",
        "Данное задание представляет собой содержит пустые ячейки кода, которые нужно заполнить. Для этого пользуйтесь подсказками-инструкциями в тексте этого документа и своими знаниями о загрузке данных из файла, предобработке данных, разделении данных на признаки и целевую переменную, обучении моделей регрессии и оценке модели на тестовых данных."
      ],
      "metadata": {
        "id": "X3LUhmRcKD8v"
      }
    },
    {
      "cell_type": "markdown",
      "source": [
        "Для выполнения задания сохраните копию файла себе на Google Диск, выполните задания, а потом поделитесь ссылкой на файл в качестве результата. Не забудьте открыть доступ, чтобы можно было проверить правильность выполнения."
      ],
      "metadata": {
        "id": "nt3gGNG2MFTq"
      }
    },
    {
      "cell_type": "markdown",
      "source": [
        "###1. Загрузка данных\n",
        "Загрузите библиотеки Pandas и Scikit-learn, а затем загрузите данные из файлов california_housing_train.csv и california_housing_test.csv. Файлы находятся прямо в виртуальной машине Google Colab. Для загрузки данных используйте функцию read_csv() из библиотеки Pandas."
      ],
      "metadata": {
        "id": "BjWK629-NuTl"
      }
    },
    {
      "cell_type": "code",
      "execution_count": null,
      "metadata": {
        "id": "7yDR-SB3J9HV"
      },
      "outputs": [],
      "source": [
        "# импортирование библиотек\n",
        "import pandas as pd\n",
        "from sklearn.linear_model import LinearRegression\n",
        "\n",
        "# загрузка данных из файлов\n",
        "train_data = pd.read_csv('/content/sample_data/california_housing_train.csv')\n",
        "test_data = pd.read_csv('/content/sample_data/california_housing_test.csv')\n"
      ]
    },
    {
      "cell_type": "markdown",
      "source": [
        "###2. Предобработка данных\n",
        "Перед тем как обучать модель линейной регрессии, необходимо выполнить предобработку данных. Для этого выполните следующие шаги:\n",
        "\n",
        "####2.1 Удалите ненужные столбцы\n",
        "Для такой простой модели, как линейная регрессия, у нас многовато столбцов. Удалите столбец total_rooms из данных."
      ],
      "metadata": {
        "id": "OwqsHrr2OWPS"
      }
    },
    {
      "cell_type": "code",
      "source": [
        "# удаление столбца total_rooms\n",
        "train_data = train_data.drop('total_rooms', axis=1)\n",
        "test_data = test_data.drop('total_rooms', axis=1)\n"
      ],
      "metadata": {
        "id": "trg1vuKYSAVf"
      },
      "execution_count": null,
      "outputs": []
    },
    {
      "cell_type": "markdown",
      "source": [
        "####2.2 Обработка пропущенных значений\n",
        "Проверьте, есть ли пропущенные значения в данных. Если есть, то заполните их средним значением по столбцу.\n",
        "\n"
      ],
      "metadata": {
        "id": "xHJPb2X7SBa2"
      }
    },
    {
      "cell_type": "code",
      "source": [
        "# проверка пропущенных значений\n",
        "print(train_data.isnull().sum())\n",
        "\n",
        "# заполнение пропущенных значений\n",
        "train_data = train_data.fillna(train_data.mean())\n",
        "test_data = test_data.fillna(test_data.mean())\n"
      ],
      "metadata": {
        "id": "DkE2oktXSLgD",
        "colab": {
          "base_uri": "https://localhost:8080/"
        },
        "outputId": "049a962b-3a95-4ed8-b7a5-53e7423277cf"
      },
      "execution_count": null,
      "outputs": [
        {
          "output_type": "stream",
          "name": "stdout",
          "text": [
            "longitude             0\n",
            "latitude              0\n",
            "housing_median_age    0\n",
            "total_bedrooms        0\n",
            "population            0\n",
            "households            0\n",
            "median_income         0\n",
            "median_house_value    0\n",
            "dtype: int64\n"
          ]
        }
      ]
    },
    {
      "cell_type": "markdown",
      "source": [
        "####2.3 Масштабирование данных\n",
        "Для улучшения производительности модели необходимо масштабировать данные. Масштабируйте данные с помощью функции StandardScaler() из библиотеки Scikit-learn.\n",
        "\n",
        "Имейте ввиду, что после масштабирования мы имеем дело не с датафреймами, а с массивами ndarray. У него нет заголовков, к столбцам обращаться нужно по индексам."
      ],
      "metadata": {
        "id": "aBfKY6M7SK1r"
      }
    },
    {
      "cell_type": "code",
      "source": [
        "# масштабирование данных\n",
        "from sklearn.preprocessing import StandardScaler\n",
        "\n",
        "scaler = StandardScaler()\n",
        "train_data_scaled = scaler.fit_transform(train_data)\n",
        "test_data_scaled = scaler.transform(test_data)\n"
      ],
      "metadata": {
        "id": "lHdKSzijSZuU"
      },
      "execution_count": null,
      "outputs": []
    },
    {
      "cell_type": "markdown",
      "source": [
        "###3. Обучение модели\n",
        "Теперь, когда данные подготовлены, можно приступать к обучению модели линейной регрессии.\n",
        "\n",
        "####3.1 Разделение данных на признаки и целевую переменную\n",
        "Разделите обучающие и тестовые данные на признаки (features) и целевую переменную (target). В качестве целевой переменной используйте столбец median_house_value. Функция train_test_split здесь не нужна, так как данные на обучающую и тестовую выборку уже разделены."
      ],
      "metadata": {
        "id": "mjUpBg0tShBG"
      }
    },
    {
      "cell_type": "code",
      "source": [
        "X_train = train_data_scaled[:, : -1]\n",
        "y_train = train_data_scaled[:, -1]\n",
        "X_test = test_data_scaled[:, : -1]\n",
        "y_test = test_data_scaled[:, -1]"
      ],
      "metadata": {
        "id": "bivfAu1ESrBd"
      },
      "execution_count": null,
      "outputs": []
    },
    {
      "cell_type": "markdown",
      "source": [
        "####3.2 Обучение модели\n",
        "Создайте объект модели линейной регрессии и обучите его на обучающих данных."
      ],
      "metadata": {
        "id": "6Pr5EpHDSzUM"
      }
    },
    {
      "cell_type": "code",
      "source": [
        "# обучение модели линейной регрессии\n",
        "model = LinearRegression()\n",
        "model.fit(X_train, y_train)\n"
      ],
      "metadata": {
        "id": "mbDT3E9OS1se",
        "colab": {
          "base_uri": "https://localhost:8080/"
        },
        "outputId": "544feb9a-af23-4f52-9477-f239104bb874"
      },
      "execution_count": null,
      "outputs": [
        {
          "output_type": "execute_result",
          "data": {
            "text/plain": [
              "LinearRegression()"
            ]
          },
          "metadata": {},
          "execution_count": 7
        }
      ]
    },
    {
      "cell_type": "markdown",
      "source": [
        "###4. Оценка модели\n",
        "Оцените модель на тестовых данных."
      ],
      "metadata": {
        "id": "v3yhZvHpS3t9"
      }
    },
    {
      "cell_type": "code",
      "source": [
        "# оценка модели на тестовых данных\n",
        "from sklearn.metrics import mean_squared_error\n",
        "\n",
        "y_pred = model.predict(X_test)\n",
        "mse = mean_squared_error(y_test, y_pred)\n",
        "print(\"Средняя квадратичная ошибка:\", mse)\n"
      ],
      "metadata": {
        "id": "gd2d2obAS9Ax",
        "colab": {
          "base_uri": "https://localhost:8080/"
        },
        "outputId": "933ace99-6afb-49e5-814a-3a86a03daea6"
      },
      "execution_count": null,
      "outputs": [
        {
          "output_type": "stream",
          "name": "stdout",
          "text": [
            "Средняя квадратичная ошибка: 0.3635741071223732\n"
          ]
        }
      ]
    },
    {
      "cell_type": "markdown",
      "source": [
        "###5. Сравнение с другой моделью\n",
        "\n",
        "Импортируйте DecisionTreeRegressor. Создайте модель, обучите на обучающей выборке, реализуйте предсказание для тестовых данных, оцените результат. Лучше ли получился результат по сравнению с линейной регрессией?"
      ],
      "metadata": {
        "id": "7piUWDzSXoS-"
      }
    },
    {
      "cell_type": "code",
      "source": [
        "from sklearn.tree import DecisionTreeRegressor\n",
        "tree = DecisionTreeRegressor(random_state=0)\n",
        "tree.fit(X_train, y_train)\n",
        "predictions = tree.predict(X_test)"
      ],
      "metadata": {
        "id": "4o-h-NmMWeOR"
      },
      "execution_count": null,
      "outputs": []
    },
    {
      "cell_type": "code",
      "source": [
        "mean_squared_error(y_test, predictions)"
      ],
      "metadata": {
        "colab": {
          "base_uri": "https://localhost:8080/"
        },
        "id": "r_VSq6mCXTMc",
        "outputId": "f9557455-7c48-408e-db70-d08919798876"
      },
      "execution_count": null,
      "outputs": [
        {
          "output_type": "execute_result",
          "data": {
            "text/plain": [
              "0.3338803015237477"
            ]
          },
          "metadata": {},
          "execution_count": 11
        }
      ]
    },
    {
      "cell_type": "code",
      "source": [],
      "metadata": {
        "id": "Lye-PZn5XjPd"
      },
      "execution_count": null,
      "outputs": []
    }
  ]
}